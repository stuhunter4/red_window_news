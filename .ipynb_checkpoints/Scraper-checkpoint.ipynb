{
 "cells": [
  {
   "cell_type": "code",
   "execution_count": 1,
   "metadata": {},
   "outputs": [],
   "source": [
    "# dependencies\n",
    "import pandas as pd\n",
    "from bs4 import BeautifulSoup as bs\n",
    "from splinter import Browser\n",
    "from webdriver_manager.chrome import ChromeDriverManager"
   ]
  },
  {
   "cell_type": "code",
   "execution_count": 2,
   "metadata": {},
   "outputs": [
    {
     "name": "stderr",
     "output_type": "stream",
     "text": [
      "[WDM] - Current google-chrome version is 86.0.4240\n",
      "[WDM] - Get LATEST driver version for 86.0.4240\n",
      "[WDM] - Get LATEST driver version for 86.0.4240\n"
     ]
    },
    {
     "name": "stdout",
     "output_type": "stream",
     "text": [
      " \n"
     ]
    },
    {
     "name": "stderr",
     "output_type": "stream",
     "text": [
      "[WDM] - Trying to download new driver from http://chromedriver.storage.googleapis.com/86.0.4240.22/chromedriver_win32.zip\n",
      "[WDM] - Driver has been saved in cache [C:\\Users\\stuhu\\.wdm\\drivers\\chromedriver\\win32\\86.0.4240.22]\n"
     ]
    }
   ],
   "source": [
    "# setup splinter\n",
    "executable_path = {'executable_path': ChromeDriverManager().install()}\n",
    "browser = Browser('chrome', **executable_path, headless=False)"
   ]
  },
  {
   "cell_type": "code",
   "execution_count": 3,
   "metadata": {},
   "outputs": [],
   "source": [
    "url = \"https://www.foxnews.com/us\"\n",
    "url1 = \"https://www.foxnews.com\"\n",
    "browser.visit(url)"
   ]
  },
  {
   "cell_type": "code",
   "execution_count": 4,
   "metadata": {},
   "outputs": [],
   "source": [
    "html = browser.html\n",
    "soup = bs(html, 'html.parser')"
   ]
  },
  {
   "cell_type": "code",
   "execution_count": 5,
   "metadata": {},
   "outputs": [],
   "source": [
    "results1 = soup.find_all('article', class_='article story-1')\n",
    "results2 = soup.find_all('article', class_='article story-2')"
   ]
  },
  {
   "cell_type": "code",
   "execution_count": 6,
   "metadata": {
    "scrolled": true
   },
   "outputs": [],
   "source": [
    "title_find1 = results1[0].find('h2', class_='title').a.text\n",
    "title_find2 = results1[1].find('h2', class_='title').a.text\n",
    "title_find3 = results2[0].find('h2', class_='title').a.text\n",
    "\n",
    "content_find1 = results1[0].find('p', class_='dek').a.text\n",
    "content_find2 = results1[1].find('p', class_='dek').a.text\n",
    "content_find3 = results2[0].find('p', class_='dek').a.text\n",
    "\n",
    "img_find1 = results1[0].find('img')['src']\n",
    "img_find2 = results1[1].find('img')['src']\n",
    "img_find3 = results2[0].find('img')['src']\n",
    "\n",
    "link_find1 = results1[0].find('a')['href']\n",
    "link_1 = url1 + link_find1\n",
    "link_find2 = results1[1].find('a')['href']\n",
    "link_2 = url1 + link_find2\n",
    "link_find3 = results2[0].find('a')['href']\n",
    "link_3 = url1 + link_find3"
   ]
  },
  {
   "cell_type": "code",
   "execution_count": 7,
   "metadata": {},
   "outputs": [
    {
     "name": "stdout",
     "output_type": "stream",
     "text": [
      "1st Article: Manhunt continues for second suspect after Houston police sergeant killed in hotel parking lot\n",
      "A manhunt continued Wednesday for the second suspect who remained at large just two days after Houston Police Sgt. Sean Rios was fatally gunned down after entering a hotel parking lot on his way to work, leaving behind four children. \n",
      "https://a57.foxnews.com/static.foxnews.com/foxnews.com/content/uploads/2020/11/920/518/houston-suspect.jpg?ve=1&tl=1\n",
      "https://www.foxnews.com/us/houston-police-sergeant-shooting-manhunt-suspect-at-large-arrest\n",
      "----------------------------------\n",
      "2ns Article: Utah homicide person of interest remains on the lam, en route to Colorado: police\n",
      "The main person of interest in a Utah homicide investigation whom authorities consider armed and dangerous may be headed for Colorado, as detectives continue to piece together the details after someone was found shot dead inside a home in Huntsville, about an hour's drive north of Salt Lake City.\n",
      "https://a57.foxnews.com/static.foxnews.com/foxnews.com/content/uploads/2020/11/920/518/utah-homicide-suspect.jpg?ve=1&tl=1\n",
      "https://www.foxnews.com/us/utah-homicide-suspect-armed-dangerous-headed-for-colorado\n",
      "----------------------------------\n",
      "3rd Article: Eta weakens to tropical storm as it takes aim at Florida's West Coast\n",
      "A revigorated Eta strengthened into a hurricane off the southwest coast of Florida on Wednesday morning before weakening back down to a strong tropical storm hours later as it takes aim at the state's West Coast.\n",
      "https://a57.foxnews.com/static.foxnews.com/foxnews.com/content/uploads/2020/11/920/518/86ef3345-ETA_SAT_1.jpg?ve=1&tl=1\n",
      "https://www.foxnews.com/us/hurricane-eta-tropical-storm-florida-west-coast-tampa-gulf-weather\n"
     ]
    }
   ],
   "source": [
    "print(\"1st Article: \" + title_find1)\n",
    "print(content_find1)\n",
    "print(img_find1)\n",
    "print(link_1)\n",
    "print(\"----------------------------------\")\n",
    "print(\"2ns Article: \" + title_find2)\n",
    "print(content_find2)\n",
    "print(img_find2)\n",
    "print(link_2)\n",
    "print(\"----------------------------------\")\n",
    "print(\"3rd Article: \" + title_find3)\n",
    "print(content_find3)\n",
    "print(img_find3)\n",
    "print(link_3)"
   ]
  },
  {
   "cell_type": "code",
   "execution_count": 8,
   "metadata": {},
   "outputs": [],
   "source": [
    "url = \"https://www.oann.com/\"\n",
    "url1 = \"https://www.oann.com/\"\n",
    "browser.visit(url)"
   ]
  },
  {
   "cell_type": "code",
   "execution_count": 9,
   "metadata": {},
   "outputs": [],
   "source": [
    "html = browser.html\n",
    "soup = bs(html, 'html.parser')"
   ]
  },
  {
   "cell_type": "code",
   "execution_count": 10,
   "metadata": {},
   "outputs": [],
   "source": [
    "results = soup.find_all('article')"
   ]
  },
  {
   "cell_type": "code",
   "execution_count": 11,
   "metadata": {},
   "outputs": [],
   "source": [
    "oann_img1 = results[0].a.img['src']\n",
    "oann_link1 = results[0].find('h3').a['href']\n",
    "oann_title1 = results[0].find('h3').a.text\n",
    "\n",
    "oann_img2 = results[1].a.img['src']\n",
    "oann_link2 = results[1].find('h3').a['href']\n",
    "oann_title2 = results[1].find('h3').a.text\n",
    "\n",
    "oann_img3 = results[2].a.img['src']\n",
    "oann_link3 = results[2].find('h3').a['href']\n",
    "oann_title3 = results[2].find('h3').a.text\n",
    "\n",
    "oann_img4 = results[3].a.img['src']\n",
    "oann_link4 = results[3].find('h3').a['href']\n",
    "oann_title4 = results[3].find('h3').a.text\n",
    "\n",
    "oann_img5 = results[4].a.img['src']\n",
    "oann_link5 = results[4].find('h3').a['href']\n",
    "oann_title5 = results[4].find('h3').a.text"
   ]
  },
  {
   "cell_type": "code",
   "execution_count": 12,
   "metadata": {},
   "outputs": [
    {
     "name": "stdout",
     "output_type": "stream",
     "text": [
      "https://d2pggiv3o55wnc.cloudfront.net/oann/wp-content/uploads/2020/11/AP20316600838666-777x437.jpg\n",
      "Ga. to conduct full ballot recount for presidential election amid razor thin margin\n",
      "https://www.oann.com/ga-to-conduct-full-ballot-recount-for-presidential-election/\n",
      "----------------------------------\n",
      "https://d2pggiv3o55wnc.cloudfront.net/oann/wp-content/uploads/2020/11/AP20310063105875-180x101.jpg\n",
      "Evidence of alleged voter fraud appears in Mich., Pa.\n",
      "https://www.oann.com/evidence-of-alleged-voter-fraud-appears-in-mich-pa/\n",
      "----------------------------------\n",
      "https://d2pggiv3o55wnc.cloudfront.net/oann/wp-content/uploads/2020/11/Bush-180x101.jpg\n",
      "Freshmen Congress members grow the far-left ‘Squad’\n",
      "https://www.oann.com/freshmen-congress-members-grow-the-far-left-squad/\n",
      "----------------------------------\n",
      "https://d2pggiv3o55wnc.cloudfront.net/oann/wp-content/uploads/2020/11/MCCONNELL-180x101.jpg\n",
      "Sen. McConnell: here won’t be interruption of transition\n",
      "https://www.oann.com/sen-mcconnell-here-wont-be-interruption-of-transition/\n",
      "----------------------------------\n",
      "https://d2pggiv3o55wnc.cloudfront.net/oann/wp-content/uploads/2020/11/ROYCOOPER-180x101.jpg\n",
      "N.C., Iowa, Minn. announce new COVID-19 restrictions\n",
      "https://www.oann.com/n-c-iowa-minn-announce-new-covid-19-restrictions/\n"
     ]
    }
   ],
   "source": [
    "print(oann_img1)\n",
    "print(oann_title1)\n",
    "print(oann_link1)\n",
    "print(\"----------------------------------\")\n",
    "print(oann_img2)\n",
    "print(oann_title2)\n",
    "print(oann_link2)\n",
    "print(\"----------------------------------\")\n",
    "print(oann_img3)\n",
    "print(oann_title3)\n",
    "print(oann_link3)\n",
    "print(\"----------------------------------\")\n",
    "print(oann_img4)\n",
    "print(oann_title4)\n",
    "print(oann_link4)\n",
    "print(\"----------------------------------\")\n",
    "print(oann_img5)\n",
    "print(oann_title5)\n",
    "print(oann_link5)"
   ]
  },
  {
   "cell_type": "code",
   "execution_count": 13,
   "metadata": {},
   "outputs": [],
   "source": [
    "url = \"https://www.newsmax.com\"\n",
    "url1 = \"https://www.newsmax.com/us/\""
   ]
  },
  {
   "cell_type": "code",
   "execution_count": 14,
   "metadata": {},
   "outputs": [],
   "source": [
    "browser.visit(url1)"
   ]
  },
  {
   "cell_type": "code",
   "execution_count": 15,
   "metadata": {},
   "outputs": [],
   "source": [
    "html = browser.html\n",
    "soup = bs(html, 'html.parser')"
   ]
  },
  {
   "cell_type": "code",
   "execution_count": 16,
   "metadata": {},
   "outputs": [],
   "source": [
    "results = soup.find_all('li', class_=\"article_link\")"
   ]
  },
  {
   "cell_type": "code",
   "execution_count": 17,
   "metadata": {},
   "outputs": [],
   "source": [
    "nmusa_link1 = url + results[0].a['href']\n",
    "nmusa_img1 = url + results[0].img['src']\n",
    "nmusa_title1 = results[0].a.text\n",
    "\n",
    "nmusa_link2 = url + results[1].a['href']\n",
    "nmusa_img2 = url + results[1].img['src']\n",
    "nmusa_title2 = results[1].a.text\n",
    "\n",
    "nmusa_link3 = url + results[2].a['href']\n",
    "nmusa_img3 = url + results[2].img['src']\n",
    "nmusa_title3 = results[2].a.text\n",
    "\n",
    "nmusa_link4 = url + results[3].a['href']\n",
    "nmusa_img4 = url + results[3].img['src']\n",
    "nmusa_title4 = results[3].a.text"
   ]
  },
  {
   "cell_type": "code",
   "execution_count": 18,
   "metadata": {},
   "outputs": [
    {
     "name": "stdout",
     "output_type": "stream",
     "text": [
      "First 'Murder Hornet' Nest in US Had 200 Queens\n",
      "https://www.newsmax.com/CMSPages/GetFile.aspx?guid=6f87199c-b103-4b3d-8ec0-bb9d8063edb9&maxsidesize=114\n",
      "https://www.newsmax.com/us/murder-hornet-washington-asian-giant-hornet-nest/2020/11/11/id/996587/\n",
      "----------------------------------\n",
      "Pence: Thank a Veteran Today\n",
      "https://www.newsmax.com/CMSPages/GetFile.aspx?guid=d6e08f14-08fc-4e33-bb8b-8b851160daba&maxsidesize=114\n",
      "https://www.newsmax.com/us/mike-pence-veterans-heroes-armed-forces/2020/11/11/id/996584/\n",
      "----------------------------------\n",
      "Divorce Rate at 50-Year Low\n",
      "https://www.newsmax.com/CMSPages/GetFile.aspx?guid=da1fd555-e943-4c62-ada4-cc6d1ac63a78&maxsidesize=114\n",
      "https://www.newsmax.com/newsfront/divorce-marriage-family-pandemic/2020/11/11/id/996575/\n",
      "----------------------------------\n",
      "Staten Island Man Charged With Threatening Schumer, FBI Over Election\n",
      "https://www.newsmax.com/CMSPages/GetFile.aspx?guid=73aa2966-b01c-4480-ae7d-ddbc1c190e13&maxsidesize=114\n",
      "https://www.newsmax.com/us/staten-island-threat-chuck-schumer-fbi/2020/11/11/id/996533/\n"
     ]
    }
   ],
   "source": [
    "print(nmusa_title1)\n",
    "print(nmusa_img1)\n",
    "print(nmusa_link1)\n",
    "print(\"----------------------------------\")\n",
    "print(nmusa_title2)\n",
    "print(nmusa_img2)\n",
    "print(nmusa_link2)\n",
    "print(\"----------------------------------\")\n",
    "print(nmusa_title3)\n",
    "print(nmusa_img3)\n",
    "print(nmusa_link3)\n",
    "print(\"----------------------------------\")\n",
    "print(nmusa_title4)\n",
    "print(nmusa_img4)\n",
    "print(nmusa_link4)"
   ]
  },
  {
   "cell_type": "code",
   "execution_count": 19,
   "metadata": {},
   "outputs": [],
   "source": [
    "url = \"https://www.breitbart.com\"\n",
    "browser.visit(url)"
   ]
  },
  {
   "cell_type": "code",
   "execution_count": 20,
   "metadata": {},
   "outputs": [],
   "source": [
    "html = browser.html\n",
    "soup = bs(html, 'html.parser')"
   ]
  },
  {
   "cell_type": "code",
   "execution_count": 21,
   "metadata": {},
   "outputs": [],
   "source": [
    "results = soup.find('section', class_=\"top_article_main\")"
   ]
  },
  {
   "cell_type": "code",
   "execution_count": 22,
   "metadata": {},
   "outputs": [],
   "source": [
    "br_title = results.find('h2').a.text\n",
    "br_img = results.find('img')['src']\n",
    "br_link = url + results.find('h2').a['href']\n",
    "br_excerpt = results.find('div', class_=\"excerpt\").p.text"
   ]
  },
  {
   "cell_type": "code",
   "execution_count": 23,
   "metadata": {},
   "outputs": [
    {
     "name": "stdout",
     "output_type": "stream",
     "text": [
      "Get Ready: Georgia Recount!\n",
      "https://media.breitbart.com/media/2020/11/GettyImages-1229332287-640x480.jpg\n",
      "https://www.breitbart.com/2020-election/2020/11/11/georgia-secretary-state-announces-full-hand-recount-each-county/\n",
      "Georgia Secretary of State Brad Raffensperger (R) on Wednesday announced that the state will conduct a “by-hand recount in each county” in the Peach State.\n"
     ]
    }
   ],
   "source": [
    "print(br_title)\n",
    "print(br_img)\n",
    "print(br_link)\n",
    "print(br_excerpt)"
   ]
  },
  {
   "cell_type": "code",
   "execution_count": 24,
   "metadata": {},
   "outputs": [],
   "source": [
    "results = soup.find('section', class_='featured_side')\n",
    "articles = results.find_all('article')"
   ]
  },
  {
   "cell_type": "code",
   "execution_count": 25,
   "metadata": {},
   "outputs": [],
   "source": [
    "br_title1 = articles[0].h2.a.text\n",
    "br_link1 = url + articles[0].h2.a['href']\n",
    "\n",
    "br_title2 = articles[1].h2.a.text\n",
    "br_link2 = url + articles[1].h2.a['href']\n",
    "\n",
    "br_title3 = articles[2].h2.a.text\n",
    "br_link3 = url + articles[2].h2.a['href']\n",
    "\n",
    "br_title4 = articles[3].h2.a.text\n",
    "br_link4 = url + articles[3].h2.a['href']"
   ]
  },
  {
   "cell_type": "code",
   "execution_count": 26,
   "metadata": {},
   "outputs": [
    {
     "name": "stdout",
     "output_type": "stream",
     "text": [
      "Connecticut Republican Wins Race — After It was ’Called’ for Democrat\n",
      "https://www.breitbart.com/politics/2020/11/11/connecticut-gop-lawmaker-discovered-winner-after-race-called-for-democrat/\n",
      "----------------------------------\n",
      "CNN Freakout: Trump Not Conceding Could Put America in Danger for Another 9/11\n",
      "https://www.breitbart.com/clips/2020/11/11/cnns-sciutto-trump-not-conceding-could-put-america-in-potential-danger-for-another-9-11/\n",
      "----------------------------------\n",
      "Hollywood Carpetbagging Machine Descends on Georgia…\n",
      "https://www.breitbart.com/entertainment/2020/11/11/hollywood-celebrities-take-aim-at-georgia-senate-races-pushing-fundraising-and-organizing-efforts-for-democratic-candidates/\n",
      "----------------------------------\n",
      "…Dem Candidate Warnock Arrested in 2002 for Obstructing Child Abuse Investigation\n",
      "https://www.breitbart.com/politics/2020/11/11/democrat-raphael-warnock-arrested-in-2002-for-obstructing-child-abuse-investigation/\n"
     ]
    }
   ],
   "source": [
    "print(br_title1)\n",
    "print(br_link1)\n",
    "print(\"----------------------------------\")\n",
    "print(br_title2)\n",
    "print(br_link2)\n",
    "print(\"----------------------------------\")\n",
    "print(br_title3)\n",
    "print(br_link3)\n",
    "print(\"----------------------------------\")\n",
    "print(br_title4)\n",
    "print(br_link4)"
   ]
  },
  {
   "cell_type": "code",
   "execution_count": 27,
   "metadata": {},
   "outputs": [],
   "source": [
    "browser.quit()"
   ]
  },
  {
   "cell_type": "code",
   "execution_count": null,
   "metadata": {},
   "outputs": [],
   "source": []
  }
 ],
 "metadata": {
  "kernelspec": {
   "display_name": "Python 3",
   "language": "python",
   "name": "python3"
  },
  "language_info": {
   "codemirror_mode": {
    "name": "ipython",
    "version": 3
   },
   "file_extension": ".py",
   "mimetype": "text/x-python",
   "name": "python",
   "nbconvert_exporter": "python",
   "pygments_lexer": "ipython3",
   "version": "3.8.3"
  }
 },
 "nbformat": 4,
 "nbformat_minor": 4
}
