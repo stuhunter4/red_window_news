{
 "cells": [
  {
   "cell_type": "code",
   "execution_count": 1,
   "metadata": {},
   "outputs": [],
   "source": [
    "# dependencies\n",
    "import pandas as pd\n",
    "from bs4 import BeautifulSoup as bs\n",
    "from splinter import Browser\n",
    "from webdriver_manager.chrome import ChromeDriverManager"
   ]
  },
  {
   "cell_type": "code",
   "execution_count": 2,
   "metadata": {},
   "outputs": [
    {
     "name": "stderr",
     "output_type": "stream",
     "text": [
      "[WDM] - Current google-chrome version is 86.0.4240\n",
      "[WDM] - Get LATEST driver version for 86.0.4240\n"
     ]
    },
    {
     "name": "stdout",
     "output_type": "stream",
     "text": [
      " \n"
     ]
    },
    {
     "name": "stderr",
     "output_type": "stream",
     "text": [
      "[WDM] - Driver [C:\\Users\\stuhu\\.wdm\\drivers\\chromedriver\\win32\\86.0.4240.22\\chromedriver.exe] found in cache\n"
     ]
    }
   ],
   "source": [
    "# setup splinter\n",
    "executable_path = {'executable_path': ChromeDriverManager().install()}\n",
    "browser = Browser('chrome', **executable_path, headless=False)"
   ]
  },
  {
   "cell_type": "code",
   "execution_count": 3,
   "metadata": {},
   "outputs": [],
   "source": [
    "url = \"https://www.foxnews.com/us\"\n",
    "url1 = \"https://www.foxnews.com\"\n",
    "browser.visit(url)"
   ]
  },
  {
   "cell_type": "code",
   "execution_count": 4,
   "metadata": {},
   "outputs": [],
   "source": [
    "html = browser.html\n",
    "soup = bs(html, 'html.parser')"
   ]
  },
  {
   "cell_type": "code",
   "execution_count": 5,
   "metadata": {},
   "outputs": [],
   "source": [
    "results1 = soup.find_all('article', class_='article story-1')\n",
    "results2 = soup.find_all('article', class_='article story-2')"
   ]
  },
  {
   "cell_type": "code",
   "execution_count": 6,
   "metadata": {
    "scrolled": true
   },
   "outputs": [],
   "source": [
    "title_find1 = results1[0].find('h2', class_='title').a.text\n",
    "title_find2 = results1[1].find('h2', class_='title').a.text\n",
    "title_find3 = results2[0].find('h2', class_='title').a.text\n",
    "\n",
    "content_find1 = results1[0].find('p', class_='dek').a.text\n",
    "content_find2 = results1[1].find('p', class_='dek').a.text\n",
    "content_find3 = results2[0].find('p', class_='dek').a.text\n",
    "\n",
    "img_find1 = results1[0].find('img')['src']\n",
    "img_find2 = results1[1].find('img')['src']\n",
    "img_find3 = results2[0].find('img')['src']\n",
    "\n",
    "link_find1 = results1[0].find('a')['href']\n",
    "link_1 = url1 + link_find1\n",
    "link_find2 = results1[1].find('a')['href']\n",
    "link_2 = url1 + link_find2\n",
    "link_find3 = results2[0].find('a')['href']\n",
    "link_3 = url1 + link_find3"
   ]
  },
  {
   "cell_type": "code",
   "execution_count": 7,
   "metadata": {},
   "outputs": [
    {
     "name": "stdout",
     "output_type": "stream",
     "text": [
      "1st Article: Portland celebrates Biden win with illegal street racing, crowds outside ICE chanting 'come out and fight'\n",
      "Crowds in Portland participated in illegal street racing and someone fired a gun into the air Saturday night during celebrations that broke out across the city after Joe Biden was projected as the winner of the 2020 presidential election.\n",
      "https://a57.foxnews.com/static.foxnews.com/foxnews.com/content/uploads/2020/11/920/518/AP20313181727088.jpg?ve=1&tl=1\n",
      "https://www.foxnews.com/us/portland-biden-celebrations-street-racing-ice-chanting-come-out-and-fight\n",
      "----------------------------------\n",
      "2ns Article: Tropical Storm Eta roars toward Florida as hurricane warning, state of emergency declared\n",
      "A strengthened Tropical Storm Eta is roaring across Cuba on Sunday with South Florida in its sights next after leaving dozens dead in Central America.\n",
      "https://a57.foxnews.com/static.foxnews.com/foxnews.com/content/uploads/2020/11/920/518/ETA_SAT_1.jpg?ve=1&tl=1\n",
      "https://www.foxnews.com/us/tropical-storm-eta-florida-cuba-hurricane-watch-state-of-emergnecy-tropical-cyclone\n",
      "----------------------------------\n",
      "3rd Article: Remains unearthed in Vermont gravel pit belong to New York woman\n",
      "Remains of a murder victim found in an abandoned Vermont gravel pit more than a year ago belong to a 43-year-old upstate New York woman, according to a report.\n",
      "https://a57.foxnews.com/static.foxnews.com/foxnews.com/content/uploads/2020/11/920/518/jessica-hildenbrandt43.jpg?ve=1&tl=1\n",
      "https://www.foxnews.com/us/remains-unearthed-in-vermont-gravel-pit-belong-to-new-york-woman\n"
     ]
    }
   ],
   "source": [
    "print(\"1st Article: \" + title_find1)\n",
    "print(content_find1)\n",
    "print(img_find1)\n",
    "print(link_1)\n",
    "print(\"----------------------------------\")\n",
    "print(\"2ns Article: \" + title_find2)\n",
    "print(content_find2)\n",
    "print(img_find2)\n",
    "print(link_2)\n",
    "print(\"----------------------------------\")\n",
    "print(\"3rd Article: \" + title_find3)\n",
    "print(content_find3)\n",
    "print(img_find3)\n",
    "print(link_3)"
   ]
  },
  {
   "cell_type": "code",
   "execution_count": 8,
   "metadata": {},
   "outputs": [],
   "source": [
    "url = \"https://www.oann.com/\"\n",
    "url1 = \"https://www.oann.com/\"\n",
    "browser.visit(url)"
   ]
  },
  {
   "cell_type": "code",
   "execution_count": 9,
   "metadata": {},
   "outputs": [],
   "source": [
    "html = browser.html\n",
    "soup = bs(html, 'html.parser')"
   ]
  },
  {
   "cell_type": "code",
   "execution_count": 10,
   "metadata": {},
   "outputs": [],
   "source": [
    "results = soup.find_all('article')"
   ]
  },
  {
   "cell_type": "code",
   "execution_count": 11,
   "metadata": {},
   "outputs": [],
   "source": [
    "oann_img1 = results[0].a.img['src']\n",
    "oann_link1 = results[0].find('h3').a['href']\n",
    "oann_title1 = results[0].find('h3').a.text\n",
    "\n",
    "oann_img2 = results[1].a.img['src']\n",
    "oann_link2 = results[1].find('h3').a['href']\n",
    "oann_title2 = results[1].find('h3').a.text\n",
    "\n",
    "oann_img3 = results[2].a.img['src']\n",
    "oann_link3 = results[2].find('h3').a['href']\n",
    "oann_title3 = results[2].find('h3').a.text\n",
    "\n",
    "oann_img4 = results[3].a.img['src']\n",
    "oann_link4 = results[3].find('h3').a['href']\n",
    "oann_title4 = results[3].find('h3').a.text\n",
    "\n",
    "oann_img5 = results[4].a.img['src']\n",
    "oann_link5 = results[4].find('h3').a['href']\n",
    "oann_title5 = results[4].find('h3').a.text"
   ]
  },
  {
   "cell_type": "code",
   "execution_count": 12,
   "metadata": {},
   "outputs": [
    {
     "name": "stdout",
     "output_type": "stream",
     "text": [
      "https://d2pggiv3o55wnc.cloudfront.net/oann/wp-content/uploads/2020/11/GettyImages-624664048-777x437.jpg\n",
      "Giuliani: Team Trump to file 4 to 5 lawsuits targeting voter fraud\n",
      "https://www.oann.com/giuliani-team-trump-to-file-4-5-lawsuits-targeting-voter-fraud/\n",
      "----------------------------------\n",
      "https://d2pggiv3o55wnc.cloudfront.net/oann/wp-content/uploads/2020/11/GettyImages-1229541653-180x101.jpg\n",
      "Left-wing crowds continue to gather outside White House\n",
      "https://www.oann.com/left-wing-crowds-continue-to-gather-outside-white-house/\n",
      "----------------------------------\n",
      "https://d2pggiv3o55wnc.cloudfront.net/oann/wp-content/uploads/2020/11/GettyImages-908702462-180x101.jpg\n",
      "Homicide rates rising in Washington D.C.\n",
      "https://www.oann.com/homicide-rates-rising-in-washington-d-c/\n",
      "----------------------------------\n",
      "https://d2pggiv3o55wnc.cloudfront.net/oann/wp-content/uploads/2020/11/GettyImages-1217144561-180x101.jpg\n",
      "LAPD downsizing special units, pulling back response\n",
      "https://www.oann.com/lapd-downsizing-special-units-pulling-back-response/\n",
      "----------------------------------\n",
      "https://d2pggiv3o55wnc.cloudfront.net/oann/wp-content/uploads/2020/11/GettyImages-610598368-180x101.jpg\n",
      "President Trump: The election is far from over\n",
      "https://www.oann.com/president-trump-the-election-is-far-from-over/\n"
     ]
    }
   ],
   "source": [
    "print(oann_img1)\n",
    "print(oann_title1)\n",
    "print(oann_link1)\n",
    "print(\"----------------------------------\")\n",
    "print(oann_img2)\n",
    "print(oann_title2)\n",
    "print(oann_link2)\n",
    "print(\"----------------------------------\")\n",
    "print(oann_img3)\n",
    "print(oann_title3)\n",
    "print(oann_link3)\n",
    "print(\"----------------------------------\")\n",
    "print(oann_img4)\n",
    "print(oann_title4)\n",
    "print(oann_link4)\n",
    "print(\"----------------------------------\")\n",
    "print(oann_img5)\n",
    "print(oann_title5)\n",
    "print(oann_link5)"
   ]
  },
  {
   "cell_type": "code",
   "execution_count": 13,
   "metadata": {},
   "outputs": [],
   "source": [
    "url = \"https://www.newsmax.com\"\n",
    "url1 = \"https://www.newsmax.com/us/\"\n",
    "browser.visit(url)"
   ]
  },
  {
   "cell_type": "code",
   "execution_count": 14,
   "metadata": {},
   "outputs": [],
   "source": [
    "html = browser.html\n",
    "soup = bs(html, 'html.parser')"
   ]
  },
  {
   "cell_type": "code",
   "execution_count": 15,
   "metadata": {},
   "outputs": [],
   "source": [
    "results = soup.find('center')"
   ]
  },
  {
   "cell_type": "code",
   "execution_count": 16,
   "metadata": {},
   "outputs": [
    {
     "name": "stdout",
     "output_type": "stream",
     "text": [
      "Dick Morris: Trump Can Still Win\n",
      "https://www.newsmax.com/CMSPages/GetFile.aspx?guid=3ff46a11-a70f-47b6-b79f-7e89822a5940&SiteName=Newsmax\n",
      "https://www.newsmax.com/morris/arizona-electoral-georgia/2020/11/08/id/995976/\n"
     ]
    }
   ],
   "source": [
    "newsmax_link = url + results.find('a')['href']\n",
    "newsmax_img = url + results.find('a').img['src']\n",
    "newsmax_title = results.find('a').img['alt']\n",
    "\n",
    "print(newsmax_title)\n",
    "print(newsmax_img)\n",
    "print(newsmax_link)"
   ]
  },
  {
   "cell_type": "code",
   "execution_count": 17,
   "metadata": {},
   "outputs": [],
   "source": [
    "browser.visit(url1)"
   ]
  },
  {
   "cell_type": "code",
   "execution_count": 18,
   "metadata": {},
   "outputs": [],
   "source": [
    "html = browser.html\n",
    "soup = bs(html, 'html.parser')"
   ]
  },
  {
   "cell_type": "code",
   "execution_count": 19,
   "metadata": {},
   "outputs": [],
   "source": [
    "results = soup.find_all('li', class_=\"article_link\")"
   ]
  },
  {
   "cell_type": "code",
   "execution_count": 20,
   "metadata": {},
   "outputs": [],
   "source": [
    "nmusa_link1 = url + results[0].a['href']\n",
    "nmusa_img1 = url + results[0].img['src']\n",
    "nmusa_title1 = results[0].a.text\n",
    "\n",
    "nmusa_link2 = url + results[1].a['href']\n",
    "nmusa_img2 = url + results[1].img['src']\n",
    "nmusa_title2 = results[1].a.text\n",
    "\n",
    "nmusa_link3 = url + results[2].a['href']\n",
    "nmusa_img3 = url + results[2].img['src']\n",
    "nmusa_title3 = results[2].a.text\n",
    "\n",
    "nmusa_link4 = url + results[3].a['href']\n",
    "nmusa_img4 = url + results[3].img['src']\n",
    "nmusa_title4 = results[3].a.text"
   ]
  },
  {
   "cell_type": "code",
   "execution_count": 21,
   "metadata": {},
   "outputs": [
    {
     "name": "stdout",
     "output_type": "stream",
     "text": [
      "Norm Crosby, Comic Mangler of Language, Dies at 93\n",
      "https://www.newsmax.com/CMSPages/GetFile.aspx?guid=3f3348fb-d1ef-4851-88ea-4bfc51f6e0b9&maxsidesize=114\n",
      "https://www.newsmax.com/us/obit-norm-crosby/2020/11/08/id/996042/\n",
      "----------------------------------\n",
      "Trebek Remembered for Grace That Elevated Him above TV Host\n",
      "https://www.newsmax.com/CMSPages/GetFile.aspx?guid=c61e0d3d-160d-4987-bee9-c7a8d7f31db6&maxsidesize=114\n",
      "https://www.newsmax.com/us/obit-alex-trebek-a-life/2020/11/08/id/996041/\n",
      "----------------------------------\n",
      "Cuomo: Trump's Defeat Means 'Political Pressure of Denying COVID Is Gone'\n",
      "https://www.newsmax.com/CMSPages/GetFile.aspx?guid=fe4a7364-dca6-4abf-9d97-3bcd1777ee3a&maxsidesize=114\n",
      "https://www.newsmax.com/politics/andrewcuomo-trump-coronavirus/2020/11/08/id/996040/\n",
      "----------------------------------\n",
      "Christian Churches Mirror Country's Political Division\n",
      "https://www.newsmax.com/CMSPages/GetFile.aspx?guid=7adf2103-dfa2-406d-ad4e-d5ebb4ccb567&maxsidesize=114\n",
      "https://www.newsmax.com/us/election-2020-faith-response/2020/11/08/id/996038/\n"
     ]
    }
   ],
   "source": [
    "print(nmusa_title1)\n",
    "print(nmusa_img1)\n",
    "print(nmusa_link1)\n",
    "print(\"----------------------------------\")\n",
    "print(nmusa_title2)\n",
    "print(nmusa_img2)\n",
    "print(nmusa_link2)\n",
    "print(\"----------------------------------\")\n",
    "print(nmusa_title3)\n",
    "print(nmusa_img3)\n",
    "print(nmusa_link3)\n",
    "print(\"----------------------------------\")\n",
    "print(nmusa_title4)\n",
    "print(nmusa_img4)\n",
    "print(nmusa_link4)"
   ]
  },
  {
   "cell_type": "code",
   "execution_count": 22,
   "metadata": {},
   "outputs": [],
   "source": [
    "url = \"https://www.breitbart.com\"\n",
    "browser.visit(url)"
   ]
  },
  {
   "cell_type": "code",
   "execution_count": 23,
   "metadata": {},
   "outputs": [],
   "source": [
    "html = browser.html\n",
    "soup = bs(html, 'html.parser')"
   ]
  },
  {
   "cell_type": "code",
   "execution_count": 24,
   "metadata": {},
   "outputs": [],
   "source": [
    "results = soup.find('section', class_=\"top_article_main\")"
   ]
  },
  {
   "cell_type": "code",
   "execution_count": 25,
   "metadata": {},
   "outputs": [],
   "source": [
    "br_title = results.find('h2').a.text\n",
    "br_img = results.find('img')['src']\n",
    "br_link = url + results.find('h2').a['href']\n",
    "br_excerpt = results.find('div', class_=\"excerpt\").p.text"
   ]
  },
  {
   "cell_type": "code",
   "execution_count": 26,
   "metadata": {},
   "outputs": [
    {
     "name": "stdout",
     "output_type": "stream",
     "text": [
      "SD Gov. Noem: ‘We Gave Al Gore 37 Days to Run the Process’ — Trump Voters Deserve Same Consideration\n",
      "https://media.breitbart.com/media/2020/06/kristi-noem-640x480.jpg\n",
      "https://www.breitbart.com/clips/2020/11/08/sd-gov-noem-we-gave-al-gore-37-days-to-run-the-process-trump-voter-deserve-same-consideration/\n",
      "Governor Kristi Noem (R-SD) noted Sunday on ABC’s “This Week” that during the 2000 election, former Vice President Al Gore was given 37 days to run the process of legal challenges to the election.\n"
     ]
    }
   ],
   "source": [
    "print(br_title)\n",
    "print(br_img)\n",
    "print(br_link)\n",
    "print(br_excerpt)"
   ]
  },
  {
   "cell_type": "code",
   "execution_count": 27,
   "metadata": {},
   "outputs": [],
   "source": [
    "results = soup.find('section', class_='featured_side')\n",
    "articles = results.find_all('article')"
   ]
  },
  {
   "cell_type": "code",
   "execution_count": 28,
   "metadata": {},
   "outputs": [],
   "source": [
    "br_title1 = articles[0].h2.a.text\n",
    "br_link1 = url + articles[0].h2.a['href']\n",
    "\n",
    "br_title2 = articles[1].h2.a.text\n",
    "br_link2 = url + articles[1].h2.a['href']\n",
    "\n",
    "br_title3 = articles[2].h2.a.text\n",
    "br_link3 = url + articles[2].h2.a['href']\n",
    "\n",
    "br_title4 = articles[3].h2.a.text\n",
    "br_link4 = url + articles[3].h2.a['href']"
   ]
  },
  {
   "cell_type": "code",
   "execution_count": 29,
   "metadata": {},
   "outputs": [
    {
     "name": "stdout",
     "output_type": "stream",
     "text": [
      "Alexandria Ocasio-Cortez Calls Democrats ‘Incompetent’ After Election Losses\n",
      "https://www.breitbart.com/2020-election/2020/11/08/alexandria-ocasio-cortez-calls-democrats-incompetent-election-losses/\n",
      "----------------------------------\n",
      "Biden Campaign Co-Chair: ‘Defunding the Police Is a Title That Hurts Democrats’\n",
      "https://www.breitbart.com/clips/2020/11/08/biden-campaign-co-chair-cedric-richmond-defunding-the-police-is-a-title-that-hurts-democrats/\n",
      "----------------------------------\n",
      "Time Magazine Debuts ‘A Time to Heal’ Cover Featuring Biden and Harris\n",
      "https://www.breitbart.com/2020-election/2020/11/08/time-magazine-debuts-time-heal-cover-featuring-biden-harris/\n",
      "----------------------------------\n",
      "Trump Campaign Seeks Public Records in Clark County Nevada as Part of Election Challenge\n",
      "https://www.breitbart.com/politics/2020/11/08/trump-campaign-seeks-public-records-clark-county-nevada-part-election-challenge/\n"
     ]
    }
   ],
   "source": [
    "print(br_title1)\n",
    "print(br_link1)\n",
    "print(\"----------------------------------\")\n",
    "print(br_title2)\n",
    "print(br_link2)\n",
    "print(\"----------------------------------\")\n",
    "print(br_title3)\n",
    "print(br_link3)\n",
    "print(\"----------------------------------\")\n",
    "print(br_title4)\n",
    "print(br_link4)"
   ]
  },
  {
   "cell_type": "code",
   "execution_count": 30,
   "metadata": {},
   "outputs": [],
   "source": [
    "browser.quit()"
   ]
  },
  {
   "cell_type": "code",
   "execution_count": null,
   "metadata": {},
   "outputs": [],
   "source": []
  }
 ],
 "metadata": {
  "kernelspec": {
   "display_name": "Python 3",
   "language": "python",
   "name": "python3"
  },
  "language_info": {
   "codemirror_mode": {
    "name": "ipython",
    "version": 3
   },
   "file_extension": ".py",
   "mimetype": "text/x-python",
   "name": "python",
   "nbconvert_exporter": "python",
   "pygments_lexer": "ipython3",
   "version": "3.8.3"
  }
 },
 "nbformat": 4,
 "nbformat_minor": 4
}
