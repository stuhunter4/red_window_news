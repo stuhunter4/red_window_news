{
 "cells": [
  {
   "cell_type": "code",
   "execution_count": 1,
   "metadata": {},
   "outputs": [],
   "source": [
    "# dependencies\n",
    "import pandas as pd\n",
    "from bs4 import BeautifulSoup as bs\n",
    "from splinter import Browser\n",
    "from webdriver_manager.chrome import ChromeDriverManager"
   ]
  },
  {
   "cell_type": "code",
   "execution_count": 2,
   "metadata": {},
   "outputs": [
    {
     "name": "stderr",
     "output_type": "stream",
     "text": [
      "[WDM] - Current google-chrome version is 86.0.4240\n",
      "[WDM] - Get LATEST driver version for 86.0.4240\n",
      "[WDM] - Driver [C:\\Users\\stuhu\\.wdm\\drivers\\chromedriver\\win32\\86.0.4240.22\\chromedriver.exe] found in cache\n"
     ]
    },
    {
     "name": "stdout",
     "output_type": "stream",
     "text": [
      " \n"
     ]
    }
   ],
   "source": [
    "# setup splinter\n",
    "executable_path = {'executable_path': ChromeDriverManager().install()}\n",
    "browser = Browser('chrome', **executable_path, headless=False)"
   ]
  },
  {
   "cell_type": "code",
   "execution_count": 3,
   "metadata": {},
   "outputs": [],
   "source": [
    "url = \"https://www.foxnews.com/us\"\n",
    "url1 = \"https://www.foxnews.com\"\n",
    "browser.visit(url)"
   ]
  },
  {
   "cell_type": "code",
   "execution_count": 4,
   "metadata": {},
   "outputs": [],
   "source": [
    "html = browser.html\n",
    "soup = bs(html, 'html.parser')"
   ]
  },
  {
   "cell_type": "code",
   "execution_count": 5,
   "metadata": {},
   "outputs": [],
   "source": [
    "results1 = soup.find_all('article', class_='article story-1')\n",
    "results2 = soup.find_all('article', class_='article story-2')"
   ]
  },
  {
   "cell_type": "code",
   "execution_count": 6,
   "metadata": {
    "scrolled": true
   },
   "outputs": [],
   "source": [
    "title_find1 = results1[0].find('h2', class_='title').a.text\n",
    "title_find2 = results1[1].find('h2', class_='title').a.text\n",
    "title_find3 = results2[0].find('h2', class_='title').a.text\n",
    "content_find1 = results1[0].find('p', class_='dek').a.text\n",
    "content_find2 = results1[1].find('p', class_='dek').a.text\n",
    "content_find3 = results2[0].find('p', class_='dek').a.text\n",
    "img_find1 = results1[0].find('img')['src']\n",
    "img_find2 = results1[1].find('img')['src']\n",
    "img_find3 = results2[0].find('img')['src']\n",
    "link_find1 = results1[0].find('a')['href']\n",
    "link_1 = url1 + link_find1\n",
    "link_find2 = results1[1].find('a')['href']\n",
    "link_2 = url1 + link_find2\n",
    "link_find3 = results2[0].find('a')['href']\n",
    "link_3 = url1 + link_find3\n"
   ]
  },
  {
   "cell_type": "code",
   "execution_count": 7,
   "metadata": {},
   "outputs": [
    {
     "name": "stdout",
     "output_type": "stream",
     "text": [
      "1st Article: Portland celebrates Biden win with illegal street racing, crowds outside ICE chanting 'come out and fight'\n",
      "Crowds in Portland participated in illegal street racing and someone fired a gun into the air Saturday night during celebrations that broke out across the city after Joe Biden was projected as the winner of the 2020 presidential election.\n",
      "https://a57.foxnews.com/static.foxnews.com/foxnews.com/content/uploads/2020/11/920/518/AP20313181727088.jpg?ve=1&tl=1\n",
      "https://www.foxnews.com/us/portland-biden-celebrations-street-racing-ice-chanting-come-out-and-fight\n",
      "2ns Article: Tropical Storm Eta roars toward Florida as hurricane warning, state of emergency declared\n",
      "A strengthened Tropical Storm Eta is roaring across Cuba on Sunday with South Florida in its sights next after leaving dozens dead in Central America.\n",
      "https://a57.foxnews.com/static.foxnews.com/foxnews.com/content/uploads/2020/11/920/518/ETA_SAT_1.jpg?ve=1&tl=1\n",
      "https://www.foxnews.com/us/tropical-storm-eta-florida-cuba-hurricane-watch-state-of-emergnecy-tropical-cyclone\n",
      "3rd Article: Remains unearthed in Vermont gravel pit belong to New York woman\n",
      "Remains of a murder victim found in an abandoned Vermont gravel pit more than a year ago belong to a 43-year-old upstate New York woman, according to a report.\n",
      "https://a57.foxnews.com/static.foxnews.com/foxnews.com/content/uploads/2020/11/920/518/jessica-hildenbrandt43.jpg?ve=1&tl=1\n",
      "https://www.foxnews.com/us/remains-unearthed-in-vermont-gravel-pit-belong-to-new-york-woman\n"
     ]
    }
   ],
   "source": [
    "print(\"1st Article: \" + title_find1)\n",
    "print(content_find1)\n",
    "print(img_find1)\n",
    "print(link_1)\n",
    "\n",
    "print(\"2ns Article: \" + title_find2)\n",
    "print(content_find2)\n",
    "print(img_find2)\n",
    "print(link_2)\n",
    "\n",
    "print(\"3rd Article: \" + title_find3)\n",
    "print(content_find3)\n",
    "print(img_find3)\n",
    "print(link_3)"
   ]
  },
  {
   "cell_type": "code",
   "execution_count": null,
   "metadata": {},
   "outputs": [],
   "source": [
    "url = \"https://www.foxnews.com/us\"\n",
    "url1 = \"https://www.foxnews.com\"\n",
    "browser.visit(url)"
   ]
  },
  {
   "cell_type": "code",
   "execution_count": null,
   "metadata": {},
   "outputs": [],
   "source": [
    "html = browser.html\n",
    "soup = bs(html, 'html.parser')"
   ]
  },
  {
   "cell_type": "code",
   "execution_count": null,
   "metadata": {},
   "outputs": [],
   "source": []
  },
  {
   "cell_type": "code",
   "execution_count": 8,
   "metadata": {},
   "outputs": [],
   "source": [
    "browser.quit()"
   ]
  },
  {
   "cell_type": "code",
   "execution_count": null,
   "metadata": {},
   "outputs": [],
   "source": []
  }
 ],
 "metadata": {
  "kernelspec": {
   "display_name": "Python 3",
   "language": "python",
   "name": "python3"
  },
  "language_info": {
   "codemirror_mode": {
    "name": "ipython",
    "version": 3
   },
   "file_extension": ".py",
   "mimetype": "text/x-python",
   "name": "python",
   "nbconvert_exporter": "python",
   "pygments_lexer": "ipython3",
   "version": "3.8.3"
  }
 },
 "nbformat": 4,
 "nbformat_minor": 4
}
