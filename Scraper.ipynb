{
 "cells": [
  {
   "cell_type": "code",
   "execution_count": 1,
   "metadata": {},
   "outputs": [],
   "source": [
    "# dependencies\n",
    "import pandas as pd\n",
    "from bs4 import BeautifulSoup as bs\n",
    "from splinter import Browser\n",
    "from webdriver_manager.chrome import ChromeDriverManager"
   ]
  },
  {
   "cell_type": "code",
   "execution_count": 2,
   "metadata": {},
   "outputs": [
    {
     "name": "stderr",
     "output_type": "stream",
     "text": [
      "[WDM] - Current google-chrome version is 86.0.4240\n",
      "[WDM] - Get LATEST driver version for 86.0.4240\n",
      "[WDM] - Driver [C:\\Users\\stuhu\\.wdm\\drivers\\chromedriver\\win32\\86.0.4240.22\\chromedriver.exe] found in cache\n"
     ]
    },
    {
     "name": "stdout",
     "output_type": "stream",
     "text": [
      " \n"
     ]
    }
   ],
   "source": [
    "# setup splinter\n",
    "executable_path = {'executable_path': ChromeDriverManager().install()}\n",
    "browser = Browser('chrome', **executable_path, headless=False)"
   ]
  },
  {
   "cell_type": "code",
   "execution_count": 3,
   "metadata": {},
   "outputs": [],
   "source": [
    "# NY Times Facebook page\n",
    "url = \"https://www.facebook.com/nytimes/\"\n",
    "browser.visit(url)"
   ]
  },
  {
   "cell_type": "code",
   "execution_count": 4,
   "metadata": {},
   "outputs": [],
   "source": [
    "# HTML object\n",
    "html = browser.html\n",
    "# parse HTML with BeautifulSoup\n",
    "soup = bs(html, 'html.parser')"
   ]
  },
  {
   "cell_type": "code",
   "execution_count": 5,
   "metadata": {},
   "outputs": [],
   "source": [
    "# first result retrieved for element containing latest News Title and Paragraph Text\n",
    "results = soup.find('div', id='u_0_t')"
   ]
  },
  {
   "cell_type": "code",
   "execution_count": 6,
   "metadata": {},
   "outputs": [
    {
     "name": "stdout",
     "output_type": "stream",
     "text": [
      "4 Books Fareed Zakaria Recommends for Today’s Political Moment\n",
      "<p>\"There is nothing like great poetry to remind you of the majesty of the English language,\" Fareed Zakaria tells @nytimesbooks.</p>\n"
     ]
    }
   ],
   "source": [
    "# use find method to navigate and retrieve text\n",
    "# text assigned to variable for later reference\n",
    "post = results.find('p')\n",
    "title = results.find_all('a')[5]['aria-label']\n",
    "print(title)\n",
    "print(post)"
   ]
  },
  {
   "cell_type": "code",
   "execution_count": 7,
   "metadata": {},
   "outputs": [],
   "source": [
    "url = \"https://www.facebook.com/FoxNews/\"\n",
    "browser.visit(url)"
   ]
  },
  {
   "cell_type": "code",
   "execution_count": 8,
   "metadata": {},
   "outputs": [],
   "source": [
    "html = browser.html\n",
    "soup = bs(html, 'html.parser')\n",
    "results = soup.find_all('p')"
   ]
  },
  {
   "cell_type": "code",
   "execution_count": 9,
   "metadata": {},
   "outputs": [
    {
     "name": "stdout",
     "output_type": "stream",
     "text": [
      "Hollywood conservatives praise Trump, deny Joe Biden's presidential victory: 'Throw out every illegal vote'\n",
      "Fireworks light up the skies above Wilmington, Del., after President-elect Joe Biden delivers his victory speech on Saturday.\n"
     ]
    }
   ],
   "source": [
    "post = results[0].text\n",
    "title_results = soup.find_all('a', rel=\"noopener nofollow\")\n",
    "title = title_results[2]['aria-label']\n",
    "print(title)\n",
    "print(post)"
   ]
  },
  {
   "cell_type": "code",
   "execution_count": 10,
   "metadata": {},
   "outputs": [],
   "source": [
    "url = \"https://www.facebook.com/OneAmericaNewsNetwork/\"\n",
    "browser.visit(url)"
   ]
  },
  {
   "cell_type": "code",
   "execution_count": 11,
   "metadata": {},
   "outputs": [],
   "source": [
    "html = browser.html\n",
    "soup = bs(html, 'html.parser')\n",
    "results = soup.find_all('p')"
   ]
  },
  {
   "cell_type": "code",
   "execution_count": 12,
   "metadata": {},
   "outputs": [
    {
     "name": "stdout",
     "output_type": "stream",
     "text": [
      "GOP reactions come in to media calling election result | One America News Network\n",
      "Republicans are offering their thoughts on mainstream media’s calling the 2020 election in favor of Joe Biden. #OANN\n"
     ]
    }
   ],
   "source": [
    "post = results[0].text\n",
    "title_results = soup.find_all('a', rel=\"noopener nofollow\")\n",
    "title = title_results[2]['aria-label']\n",
    "print(title)\n",
    "print(post)"
   ]
  },
  {
   "cell_type": "code",
   "execution_count": 13,
   "metadata": {},
   "outputs": [],
   "source": [
    "url = \"https://www.facebook.com/newsmax/\"\n",
    "browser.visit(url)"
   ]
  },
  {
   "cell_type": "code",
   "execution_count": 14,
   "metadata": {},
   "outputs": [],
   "source": [
    "html = browser.html\n",
    "soup = bs(html, 'html.parser')\n",
    "results = soup.find_all('p')"
   ]
  },
  {
   "cell_type": "code",
   "execution_count": 15,
   "metadata": {},
   "outputs": [
    {
     "name": "stdout",
     "output_type": "stream",
     "text": [
      "BIDEN'S ECONOMY: \"We're not going to have sound economic policy\" under Joe Biden, Trish Regan tells Newsmax TV. nws.mx/tv\n"
     ]
    }
   ],
   "source": [
    "post = results[0].text\n",
    "\n",
    "print(post)"
   ]
  },
  {
   "cell_type": "code",
   "execution_count": 16,
   "metadata": {},
   "outputs": [],
   "source": [
    "url = \"https://www.foxnews.com/us\"\n",
    "browser.visit(url)"
   ]
  },
  {
   "cell_type": "code",
   "execution_count": 17,
   "metadata": {},
   "outputs": [],
   "source": [
    "html = browser.html\n",
    "soup = bs(html, 'html.parser')"
   ]
  },
  {
   "cell_type": "code",
   "execution_count": 18,
   "metadata": {},
   "outputs": [],
   "source": [
    "results1 = soup.find_all('article', class_='article story-1')"
   ]
  },
  {
   "cell_type": "code",
   "execution_count": 19,
   "metadata": {},
   "outputs": [],
   "source": [
    "results2 = soup.find_all('article', class_='article story-2')"
   ]
  },
  {
   "cell_type": "code",
   "execution_count": 20,
   "metadata": {},
   "outputs": [
    {
     "name": "stdout",
     "output_type": "stream",
     "text": [
      "1st Article: After learning of Biden win, Trump stops to take photo with bride at golf course\n",
      "2ns Article: Pro-Trump demonstrators, some armed, rally around US following Biden victory projection\n",
      "3rd Article: Quick-acting Georgia traffic cop saves choking teen\n"
     ]
    }
   ],
   "source": [
    "title_find1 = results1[0].find('h2', class_='title').a.text\n",
    "title_find2 = results1[1].find('h2', class_='title').a.text\n",
    "title_find3 = results2[0].find('h2', class_='title').a.text\n",
    "print(\"1st Article: \" + title_find1)\n",
    "print(\"2ns Article: \" + title_find2)\n",
    "print(\"3rd Article: \" + title_find3)"
   ]
  },
  {
   "cell_type": "code",
   "execution_count": 21,
   "metadata": {},
   "outputs": [],
   "source": [
    "browser.quit()"
   ]
  },
  {
   "cell_type": "code",
   "execution_count": null,
   "metadata": {},
   "outputs": [],
   "source": []
  }
 ],
 "metadata": {
  "kernelspec": {
   "display_name": "Python 3",
   "language": "python",
   "name": "python3"
  },
  "language_info": {
   "codemirror_mode": {
    "name": "ipython",
    "version": 3
   },
   "file_extension": ".py",
   "mimetype": "text/x-python",
   "name": "python",
   "nbconvert_exporter": "python",
   "pygments_lexer": "ipython3",
   "version": "3.8.3"
  }
 },
 "nbformat": 4,
 "nbformat_minor": 4
}
